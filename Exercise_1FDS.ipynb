{
  "nbformat": 4,
  "nbformat_minor": 0,
  "metadata": {
    "colab": {
      "provenance": [],
      "authorship_tag": "ABX9TyM3J/SmYnqjKTP0GUbyp1aR",
      "include_colab_link": true
    },
    "kernelspec": {
      "name": "python3",
      "display_name": "Python 3"
    },
    "language_info": {
      "name": "python"
    }
  },
  "cells": [
    {
      "cell_type": "markdown",
      "metadata": {
        "id": "view-in-github",
        "colab_type": "text"
      },
      "source": [
        "<a href=\"https://colab.research.google.com/github/Bharadwajshinde/Bharadwajshinde/blob/main/Exercise_1FDS.ipynb\" target=\"_parent\"><img src=\"https://colab.research.google.com/assets/colab-badge.svg\" alt=\"Open In Colab\"/></a>"
      ]
    },
    {
      "cell_type": "code",
      "execution_count": null,
      "metadata": {
        "colab": {
          "base_uri": "https://localhost:8080/"
        },
        "id": "7zH_mQafz0XC",
        "outputId": "031fd66d-c3e0-47f7-afce-f2f6b5d8780d"
      },
      "outputs": [
        {
          "output_type": "stream",
          "name": "stdout",
          "text": [
            "Enter your weight in kgs 85\n",
            "My weight is 85 kgs\n"
          ]
        }
      ],
      "source": [
        "A=input(\"Enter your weight in kgs \")\n",
        "print (\"My weight is\",A, \"kgs\")"
      ]
    },
    {
      "cell_type": "code",
      "source": [
        "Weight=input(\"Enter your weight in kgs \")\n",
        "print (\"My weight is\",Weight, \"kgs\")\n",
        "\n",
        "u=input(\"What is your preffered unit of height F/M \")\n",
        "if u == 'F':\n",
        "  A=input(\"Enter your height in Feet \")\n",
        "  B=input(\"Enter your height in Inch \")\n",
        "  BMI=int(Weight)/((int(A)*0.3048)+(float(B)/39.3701))**2\n",
        "else:\n",
        "  C=input(\"Enter your height in Meter \")\n",
        "  D=input(\"Enter your height in CM \")\n",
        "  BMI=int(Weight)/((float(C))+(float(D)/100))**2\n",
        "\n",
        "if BMI <= 18:\n",
        "  print(\"Your BMI is \",BMI,\" you fall into underweight category\")\n",
        "elif BMI > 18 and BMI <= 25:\n",
        "  print(\"Your BMI is \",BMI,\" you fall into normal category\")\n",
        "elif BMI > 25 and BMI <= 30:\n",
        "  print(\"Your BMI is \",BMI,\" you fall into overweight category\")\n",
        "else:\n",
        "  print(\"Your BMI is \",BMI,\" you fall into obese category\")\n",
        "\n"
      ],
      "metadata": {
        "colab": {
          "base_uri": "https://localhost:8080/"
        },
        "id": "tGiyeIim0ODW",
        "outputId": "9dfff525-0978-4ab6-b681-0da089d08c3a"
      },
      "execution_count": null,
      "outputs": [
        {
          "output_type": "stream",
          "name": "stdout",
          "text": [
            "Enter your weight in kgs 85\n",
            "My weight is 85 kgs\n",
            "What is your preffered unit of height F/M F\n",
            "Enter your height in Feet 5\n",
            "Enter your height in Inch 11\n",
            "Your BMI is  26.135744008230816  you fall into overweight category\n"
          ]
        }
      ]
    },
    {
      "cell_type": "code",
      "source": [],
      "metadata": {
        "id": "XyWLDDcV2SMZ"
      },
      "execution_count": null,
      "outputs": []
    },
    {
      "cell_type": "markdown",
      "source": [
        "Write an iterative function to compute factorial of natural number."
      ],
      "metadata": {
        "id": "su6Mi9GDIqIX"
      }
    },
    {
      "cell_type": "code",
      "source": [
        "def factorial_iterative(n):\n",
        "    if n < 0:\n",
        "        return None  # Factorial is not defined for negative numbers\n",
        "    result = 1\n",
        "    for i in range(1, n + 1):\n",
        "        result = result*i\n",
        "    return result\n",
        "\n",
        "factorial_iterative(4)"
      ],
      "metadata": {
        "colab": {
          "base_uri": "https://localhost:8080/"
        },
        "id": "kpXp5XwrIyJ0",
        "outputId": "7e5ef442-d625-40ae-d7bb-04ba4672bdd7"
      },
      "execution_count": null,
      "outputs": [
        {
          "output_type": "execute_result",
          "data": {
            "text/plain": [
              "24"
            ]
          },
          "metadata": {},
          "execution_count": 29
        }
      ]
    },
    {
      "cell_type": "markdown",
      "source": [
        "Write a recursive function to compute factorial of natural number."
      ],
      "metadata": {
        "id": "uBebg1D9OaSL"
      }
    },
    {
      "cell_type": "code",
      "source": [
        "def factorial_recursive(n):\n",
        "    if n < 0:\n",
        "        return None\n",
        "    elif n == 0:\n",
        "        return 1\n",
        "    else:\n",
        "        return n * factorial_recursive(n-1) #recurring till limit\n",
        "factorial_recursive(4)\n"
      ],
      "metadata": {
        "colab": {
          "base_uri": "https://localhost:8080/"
        },
        "id": "WpHW_SJLNqjd",
        "outputId": "82660102-2936-40a0-9cc3-741261fba24d"
      },
      "execution_count": null,
      "outputs": [
        {
          "output_type": "execute_result",
          "data": {
            "text/plain": [
              "24"
            ]
          },
          "metadata": {},
          "execution_count": 32
        }
      ]
    },
    {
      "cell_type": "markdown",
      "source": [
        "Write a function to compute x**n/n! where given x and natural number n as argument"
      ],
      "metadata": {
        "id": "1Clg1w0IuDnE"
      }
    },
    {
      "cell_type": "code",
      "source": [
        "def fact_iterative(n):\n",
        "  if n<0:\n",
        "    return None\n",
        "  result=1\n",
        "  for i in range(1,n+1):\n",
        "    result=result*i\n",
        "  return result\n",
        "\n",
        "def calculate_product(x,n):\n",
        "    number=x**n/fact_iterative(n)\n",
        "    return number\n",
        "\n",
        "calculate_product(5,5)"
      ],
      "metadata": {
        "colab": {
          "base_uri": "https://localhost:8080/"
        },
        "id": "XoLwu34CneNy",
        "outputId": "c1874b7e-6087-4e95-be2b-cf8e849297ba"
      },
      "execution_count": null,
      "outputs": [
        {
          "output_type": "execute_result",
          "data": {
            "text/plain": [
              "26.041666666666668"
            ]
          },
          "metadata": {},
          "execution_count": 9
        }
      ]
    },
    {
      "cell_type": "markdown",
      "source": [
        "Write a function to to iteratively sum up x**n/n! where from n=1 to given N,for a given x."
      ],
      "metadata": {
        "id": "1TbRAEgr6-N0"
      }
    },
    {
      "cell_type": "code",
      "source": [
        "def fact_iterative(n):\n",
        "  if n<0:\n",
        "    return None\n",
        "  result=1\n",
        "  for i in range(1,n+1):\n",
        "    result=result*i\n",
        "  return result\n",
        "\n",
        "def iterative_sum(x,n):\n",
        "    number=x**n/fact_iterative(n)\n",
        "    total=1\n",
        "    for i in range(1,n+1):\n",
        "      total=total+number\n",
        "    return total\n",
        "\n",
        "calculate_sum(5,5)\n"
      ],
      "metadata": {
        "colab": {
          "base_uri": "https://localhost:8080/"
        },
        "id": "PJWZj4ss4TsG",
        "outputId": "996c3cac-343d-451e-d7a5-f7a9d8432aa8"
      },
      "execution_count": null,
      "outputs": [
        {
          "output_type": "execute_result",
          "data": {
            "text/plain": [
              "131.20833333333334"
            ]
          },
          "metadata": {},
          "execution_count": 11
        }
      ]
    },
    {
      "cell_type": "markdown",
      "source": [
        "Write a function to to iteratively sum up x**n/n! where from n=1 to given N,such that F(x,N')-F(x,N'-1)< ε. For given real number x and and positive small number ε.\n"
      ],
      "metadata": {
        "id": "3rgfv0VXPrh1"
      }
    },
    {
      "cell_type": "code",
      "source": [
        "def fact_iterative(n):\n",
        "  if n<0:\n",
        "    return None\n",
        "  result=1\n",
        "  for i in range(1,n+1):\n",
        "    result=result*i\n",
        "  return result\n",
        "\n",
        "\n",
        "def epsilon_func(x,epsilon):\n",
        "  prev_sum=0\n",
        "  current_sum=x\n",
        "  n=1\n",
        "  while abs(current_sum-prev_sum)>= epsilon:\n",
        "    prev_sum=current_sum\n",
        "    n=n+1\n",
        "    term=(x**n/fact_iterative(n))\n",
        "    current_sum=current_sum+term\n",
        "  return current_sum\n",
        "\n",
        "epsilon_func(5,0.0024)\n",
        "\n"
      ],
      "metadata": {
        "colab": {
          "base_uri": "https://localhost:8080/"
        },
        "id": "pCpmyCK_Q_ES",
        "outputId": "74277ec2-2e67-4892-d323-e5cd5f7cf7ae"
      },
      "execution_count": null,
      "outputs": [
        {
          "output_type": "execute_result",
          "data": {
            "text/plain": [
              "147.41235524670316"
            ]
          },
          "metadata": {},
          "execution_count": 2
        }
      ]
    },
    {
      "cell_type": "markdown",
      "source": [
        "Choose two real numbers p & q and compute the following two values v1=F(p,100)*F(q,100) v2= F(p+q,100)\n",
        "find v1-v2"
      ],
      "metadata": {
        "id": "gaEZaLU0XZ1Y"
      }
    },
    {
      "cell_type": "code",
      "source": [
        "def fact_iterative(n):\n",
        "  if n<0:\n",
        "    return None\n",
        "  result=1\n",
        "  for i in range(1,n+1):\n",
        "    result=result*i\n",
        "  return result\n",
        "\n",
        "def iterative_sum(x,n):\n",
        "    number=x**n/fact_iterative(n)\n",
        "    total=1\n",
        "    for i in range(1,n+1):\n",
        "      total=total+number\n",
        "    return total\n",
        "\n",
        "def variance_func(p,q):\n",
        "  v1=iterative_sum(p,100)*iterative_sum(q,100)\n",
        "  v2=iterative_sum(p+q,100)\n",
        "  variance= v1-v2\n",
        "  return variance\n",
        "\n",
        "variance_func(5,7)"
      ],
      "metadata": {
        "colab": {
          "base_uri": "https://localhost:8080/"
        },
        "id": "MG29NG0vX6jL",
        "outputId": "664ba3af-d8a4-4512-84df-4c6aaac89848"
      },
      "execution_count": null,
      "outputs": [
        {
          "output_type": "execute_result",
          "data": {
            "text/plain": [
              "0.0"
            ]
          },
          "metadata": {},
          "execution_count": 3
        }
      ]
    },
    {
      "cell_type": "markdown",
      "source": [],
      "metadata": {
        "id": "nOS3h95fOTnj"
      }
    }
  ]
}